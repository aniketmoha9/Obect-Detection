{
  "nbformat": 4,
  "nbformat_minor": 0,
  "metadata": {
    "colab": {
      "name": "eagleview_assignment.ipynb",
      "provenance": []
    },
    "kernelspec": {
      "name": "python3",
      "display_name": "Python 3"
    },
    "language_info": {
      "name": "python"
    }
  },
  "cells": [
    {
      "cell_type": "code",
      "metadata": {
        "id": "p6-YlRToe2CM"
      },
      "source": [
        "#i have used Yolov5 for obejct detection here and trained on the given dataset"
      ],
      "execution_count": null,
      "outputs": []
    },
    {
      "cell_type": "code",
      "metadata": {
        "id": "TqqzhC0mgb-w"
      },
      "source": [
        "!git clone https://github.com/ultralytics/yolov5.git #cloned the Yolov5 repository "
      ],
      "execution_count": null,
      "outputs": []
    },
    {
      "cell_type": "code",
      "metadata": {
        "id": "-T9ryV9YghJr"
      },
      "source": [
        "cd /content/yolov5 #just change the directory to folder where yolov5 is present"
      ],
      "execution_count": null,
      "outputs": []
    },
    {
      "cell_type": "code",
      "metadata": {
        "id": "HqsYZa85gl42"
      },
      "source": [
        "!python install -r requirements.txt #install all the dependecies"
      ],
      "execution_count": null,
      "outputs": []
    },
    {
      "cell_type": "code",
      "metadata": {
        "id": "e7vxjxvAimpG"
      },
      "source": [
        "!tar -xzvf /content/drive/MyDrive/eagleview/trainval.tar.gz #extracted the given dataset"
      ],
      "execution_count": null,
      "outputs": []
    },
    {
      "cell_type": "code",
      "metadata": {
        "id": "l2OKipyLixdZ"
      },
      "source": [
        "!git clone https://github.com/ssaru/convert2Yolo.git #repository for converting annotations from coco format to Yolo format"
      ],
      "execution_count": null,
      "outputs": []
    },
    {
      "cell_type": "code",
      "metadata": {
        "id": "iUtq2MAmjgZx"
      },
      "source": [
        "#Code for conversion from coco to yolo"
      ],
      "execution_count": null,
      "outputs": []
    },
    {
      "cell_type": "code",
      "metadata": {
        "id": "sYFAIGiujY6s"
      },
      "source": [
        "!python3 example.py --datasets COCO --img_path /content/drive/MyDrive/eagleview/trainval/images --label /content/drive/MyDrive/eagleview/trainval/annotations/bbox-annotations.json --convert_output_path /content/drive/MyDrive/eagleview/trainval/labels --img_type \".jpg\" --manifest_path /content/drive/MyDrive/eagleview/trainval --cls_list_file names.txt"
      ],
      "execution_count": null,
      "outputs": []
    },
    {
      "cell_type": "code",
      "metadata": {
        "id": "r_dOjpddgl2A"
      },
      "source": [
        "!python train.py --data data.yaml --weights yolov5s.pt #before training just edit the path location in the data.yaml file"
      ],
      "execution_count": null,
      "outputs": []
    },
    {
      "cell_type": "code",
      "metadata": {
        "id": "zONFJaFkh9p0"
      },
      "source": [
        "!python detect.py --weights yolov5/runs/train/exp2/weights/best.pt --source /content/drive/MyDrive/eagleview/yolov5/images/test --save-txt #for inference i have used the weights which i have trained on"
      ],
      "execution_count": null,
      "outputs": []
    },
    {
      "cell_type": "code",
      "metadata": {
        "id": "UTeSiNvXglyi"
      },
      "source": [
        " #if you want to use the default weights which is already present in the repository which could be used without training the model"
      ],
      "execution_count": null,
      "outputs": []
    },
    {
      "cell_type": "code",
      "metadata": {
        "id": "gsIQgRTuglxD"
      },
      "source": [
        "!python detect.py --source /content/drive/MyDrive/eagleview/yolov5/images/test --save-txt --classes 0 2 #class 0 is for person and 2 for cars"
      ],
      "execution_count": null,
      "outputs": []
    },
    {
      "cell_type": "code",
      "metadata": {
        "id": "nfaBLrkthy1W"
      },
      "source": [
        ""
      ],
      "execution_count": null,
      "outputs": []
    }
  ]
}